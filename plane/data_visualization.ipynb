{
 "cells": [
  {
   "cell_type": "code",
   "execution_count": 1,
   "metadata": {},
   "outputs": [],
   "source": [
    "import pandas as pd\n",
    "import matplotlib.pyplot as plt\n",
    "import numpy as np"
   ]
  },
  {
   "cell_type": "code",
   "execution_count": 2,
   "metadata": {},
   "outputs": [
    {
     "data": {
      "text/html": [
       "<div>\n",
       "<style scoped>\n",
       "    .dataframe tbody tr th:only-of-type {\n",
       "        vertical-align: middle;\n",
       "    }\n",
       "\n",
       "    .dataframe tbody tr th {\n",
       "        vertical-align: top;\n",
       "    }\n",
       "\n",
       "    .dataframe thead th {\n",
       "        text-align: right;\n",
       "    }\n",
       "</style>\n",
       "<table border=\"1\" class=\"dataframe\">\n",
       "  <thead>\n",
       "    <tr style=\"text-align: right;\">\n",
       "      <th></th>\n",
       "      <th>GT</th>\n",
       "    </tr>\n",
       "  </thead>\n",
       "  <tbody>\n",
       "    <tr>\n",
       "      <th>0</th>\n",
       "      <td>0.527</td>\n",
       "    </tr>\n",
       "    <tr>\n",
       "      <th>1</th>\n",
       "      <td>0.363</td>\n",
       "    </tr>\n",
       "    <tr>\n",
       "      <th>2</th>\n",
       "      <td>0.316</td>\n",
       "    </tr>\n",
       "    <tr>\n",
       "      <th>3</th>\n",
       "      <td>0.413</td>\n",
       "    </tr>\n",
       "    <tr>\n",
       "      <th>4</th>\n",
       "      <td>0.495</td>\n",
       "    </tr>\n",
       "  </tbody>\n",
       "</table>\n",
       "</div>"
      ],
      "text/plain": [
       "      GT\n",
       "0  0.527\n",
       "1  0.363\n",
       "2  0.316\n",
       "3  0.413\n",
       "4  0.495"
      ]
     },
     "execution_count": 2,
     "metadata": {},
     "output_type": "execute_result"
    }
   ],
   "source": [
    "df1= pd.read_csv(\"./data/plane_drags.csv\")\n",
    "df1.head()"
   ]
  },
  {
   "cell_type": "code",
   "execution_count": 3,
   "metadata": {},
   "outputs": [
    {
     "data": {
      "image/png": "[encoded data removed]",
      "text/plain": [
       "<Figure size 432x288 with 1 Axes>"
      ]
     },
     "metadata": {
      "needs_background": "light"
     },
     "output_type": "display_data"
    }
   ],
   "source": [
    "# Select the column from the DataFrame for which you want to create a histogram\n",
    "column_name = 'GT'  # Replace 'column_name' with the actual column name from your DataFrame\n",
    "\n",
    "# Calculate statistics\n",
    "mean_val = df1[column_name].mean()\n",
    "std_val = df1[column_name].std()\n",
    "min_val = df1[column_name].min()\n",
    "max_val = df1[column_name].max()\n",
    "\n",
    "# Create a histogram\n",
    "plt.hist(df1[column_name])\n",
    "\n",
    "# Customize the histogram\n",
    "plt.title(\"Drag coefficients of aircrafts\", fontsize=16)\n",
    "plt.xlabel(\"Values\", fontsize=14)\n",
    "plt.ylabel(\"Frequency\", fontsize=14)\n",
    "\n",
    "# Display statistics on the histogram plot with enlarged font size\n",
    "plt.text(0.95, 0.9, f\"Mean: {mean_val:.2f}\", ha='right', va='top', transform=plt.gca().transAxes, fontsize=12)\n",
    "plt.text(0.95, 0.85, f\"Std: {std_val:.2f}\", ha='right', va='top', transform=plt.gca().transAxes, fontsize=12)\n",
    "plt.text(0.95, 0.8, f\"Min: {min_val:.2f}\", ha='right', va='top', transform=plt.gca().transAxes, fontsize=12)\n",
    "plt.text(0.95, 0.75, f\"Max: {max_val:.2f}\", ha='right', va='top', transform=plt.gca().transAxes, fontsize=12)\n",
    "\n",
    "# Enlarge x-labels and y-labels font size\n",
    "plt.xticks(fontsize=12)\n",
    "plt.yticks(fontsize=12)\n",
    "\n",
    "# Display the histogram\n",
    "plt.show()\n"
   ]
  },
  {
   "cell_type": "code",
   "execution_count": 6,
   "metadata": {},
   "outputs": [
    {
     "data": {
      "text/html": [
       "<div>\n",
       "<style scoped>\n",
       "    .dataframe tbody tr th:only-of-type {\n",
       "        vertical-align: middle;\n",
       "    }\n",
       "\n",
       "    .dataframe tbody tr th {\n",
       "        vertical-align: top;\n",
       "    }\n",
       "\n",
       "    .dataframe thead th {\n",
       "        text-align: right;\n",
       "    }\n",
       "</style>\n",
       "<table border=\"1\" class=\"dataframe\">\n",
       "  <thead>\n",
       "    <tr style=\"text-align: right;\">\n",
       "      <th></th>\n",
       "      <th>GT</th>\n",
       "    </tr>\n",
       "  </thead>\n",
       "  <tbody>\n",
       "    <tr>\n",
       "      <th>0</th>\n",
       "      <td>0.346</td>\n",
       "    </tr>\n",
       "    <tr>\n",
       "      <th>1</th>\n",
       "      <td>0.654</td>\n",
       "    </tr>\n",
       "    <tr>\n",
       "      <th>2</th>\n",
       "      <td>0.052</td>\n",
       "    </tr>\n",
       "    <tr>\n",
       "      <th>3</th>\n",
       "      <td>0.604</td>\n",
       "    </tr>\n",
       "    <tr>\n",
       "      <th>4</th>\n",
       "      <td>0.199</td>\n",
       "    </tr>\n",
       "  </tbody>\n",
       "</table>\n",
       "</div>"
      ],
      "text/plain": [
       "      GT\n",
       "0  0.346\n",
       "1  0.654\n",
       "2  0.052\n",
       "3  0.604\n",
       "4  0.199"
      ]
     },
     "execution_count": 6,
     "metadata": {},
     "output_type": "execute_result"
    }
   ],
   "source": [
    "df2= pd.read_csv(\"./data/plane_lifts.csv\")\n",
    "df2.head()"
   ]
  },
  {
   "cell_type": "code",
   "execution_count": 8,
   "metadata": {},
   "outputs": [
    {
     "data": {
      "image/png": "[encoded data removed]",
      "text/plain": [
       "<Figure size 432x288 with 1 Axes>"
      ]
     },
     "metadata": {
      "needs_background": "light"
     },
     "output_type": "display_data"
    }
   ],
   "source": [
    "# Select the column from the DataFrame for which you want to create a histogram\n",
    "column_name = 'GT'  # Replace 'column_name' with the actual column name from your DataFrame\n",
    "\n",
    "# Calculate statistics\n",
    "mean_val = df2[column_name].mean()\n",
    "std_val = df2[column_name].std()\n",
    "min_val = df2[column_name].min()\n",
    "max_val = df2[column_name].max()\n",
    "\n",
    "# Create a histogram\n",
    "plt.hist(df2[column_name])\n",
    "\n",
    "# Customize the histogram\n",
    "plt.title(\"Lift coefficients of aircrafts\", fontsize=16)\n",
    "plt.xlabel(\"Values\", fontsize=14)\n",
    "plt.ylabel(\"Frequency\", fontsize=14)\n",
    "\n",
    "# Display statistics on the histogram plot with enlarged font size\n",
    "plt.text(0.95, 0.9, f\"Mean: {mean_val:.2f}\", ha='right', va='top', transform=plt.gca().transAxes, fontsize=12)\n",
    "plt.text(0.95, 0.85, f\"Std: {std_val:.2f}\", ha='right', va='top', transform=plt.gca().transAxes, fontsize=12)\n",
    "plt.text(0.95, 0.8, f\"Min: {min_val:.2f}\", ha='right', va='top', transform=plt.gca().transAxes, fontsize=12)\n",
    "plt.text(0.95, 0.75, f\"Max: {max_val:.2f}\", ha='right', va='top', transform=plt.gca().transAxes, fontsize=12)\n",
    "\n",
    "# Enlarge x-labels and y-labels font size\n",
    "plt.xticks(fontsize=12)\n",
    "plt.yticks(fontsize=12)\n",
    "\n",
    "# Display the histogram\n",
    "plt.show()"
   ]
  }
 ],
 "metadata": {
  "kernelspec": {
   "display_name": "base",
   "language": "python",
   "name": "python3"
  },
  "language_info": {
   "codemirror_mode": {
    "name": "ipython",
    "version": 3
   },
   "file_extension": ".py",
   "mimetype": "text/x-python",
   "name": "python",
   "nbconvert_exporter": "python",
   "pygments_lexer": "ipython3",
   "version": "3.8.8"
  },
  "orig_nbformat": 4
 },
 "nbformat": 4,
 "nbformat_minor": 2
}
